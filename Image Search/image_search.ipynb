{
 "cells": [
  {
   "cell_type": "code",
   "execution_count": null,
   "metadata": {},
   "outputs": [],
   "source": [
    "from towhee import ops, pipe, DataCollection\n",
    "import numpy as np\n",
    "import cv2\n",
    "import csv\n",
    "import pandas as pd\n",
    "from pymilvus import connections, FieldSchema, CollectionSchema, DataType, Collection, utility\n",
    "\n",
    "HOST = \"localhost\"\n",
    "PORT = \"19530\"\n",
    "COLLECTION_NAME = 'ImageCollection'\n",
    "INDEX_PARAMS = {\n",
    "    'metric_type': 'L2',\n",
    "    'index_type': 'IVF_FLAT',\n",
    "    'params': {'nlist': 4},\n",
    "}\n",
    "DIMESION = 512"
   ]
  },
  {
   "cell_type": "code",
   "execution_count": null,
   "metadata": {},
   "outputs": [],
   "source": [
    "connections.connect(host=HOST, port=PORT)\n",
    "\n",
    "def create_milvus_collection(collection_name, dim):\n",
    "    if utility.has_collection(collection_name):\n",
    "        # utility.drop_collection(collection_name)\n",
    "        return Collection(name=collection_name)\n",
    "    \n",
    "    fields = [\n",
    "        FieldSchema(name='id', dtype=DataType.INT64, descrition='ids', is_primary=True, auto_id=False),\n",
    "        FieldSchema(name='embedding', dtype=DataType.FLOAT_VECTOR, descrition='embedding vectors', dim=dim)\n",
    "    ]\n",
    "    schema = CollectionSchema(fields=fields, description='text image search')\n",
    "    collection = Collection(name=collection_name, schema=schema)\n",
    "\n",
    "    collection.create_index(field_name=\"embedding\", index_params=INDEX_PARAMS)\n",
    "    return collection\n",
    "    \n",
    "collection = create_milvus_collection(COLLECTION_NAME, DIMESION)"
   ]
  },
  {
   "cell_type": "code",
   "execution_count": null,
   "metadata": {},
   "outputs": [],
   "source": [
    "# pipe line 基本流程\n",
    "\n",
    "p = (\n",
    "    pipe.input('path')\n",
    "    .map('path', 'img', ops.image_decode.cv2('rgb'))\n",
    "    .map('img', 'vec', ops.image_text_embedding.clip(model_name='clip_vit_base_patch16', modality='image'))\n",
    "    .map('vec', 'vec', lambda x: x / np.linalg.norm(x))\n",
    "    .output('img', 'vec')\n",
    ")\n",
    "\n",
    "DataCollection(p('./Dixit Card/1.png')).show()"
   ]
  },
  {
   "cell_type": "code",
   "execution_count": null,
   "metadata": {},
   "outputs": [],
   "source": [
    "# 將文字轉換成embedding\n",
    "\n",
    "p2 = (\n",
    "    pipe.input('text')\n",
    "    .map('text', 'vec', ops.image_text_embedding.clip(model_name='clip_vit_base_patch16', modality='text'))\n",
    "    .map('vec', 'vec', lambda x: x / np.linalg.norm(x))\n",
    "    .output('text', 'vec')\n",
    ")\n",
    "\n",
    "DataCollection(p2(\"A teddybear on a skateboard in Times Square.\")).show()"
   ]
  },
  {
   "cell_type": "code",
   "execution_count": null,
   "metadata": {},
   "outputs": [],
   "source": [
    "def read_csv(csv_path, encoding='utf-8-sig'):\n",
    "    with open(csv_path, 'r', encoding=encoding) as f:\n",
    "        data = csv.DictReader(f)\n",
    "        for line in data:\n",
    "            yield int(line['id']), line['path']\n",
    "\n",
    "p3 = (\n",
    "    pipe.input('csv_file')\n",
    "    .flat_map('csv_file', ('id', 'path'), read_csv)\n",
    "    .map('path', 'img', ops.image_decode.cv2('rgb'))\n",
    "    .map('img', 'vec', ops.image_text_embedding.clip(model_name='clip_vit_base_patch16', modality='image'))\n",
    "    .map('vec', 'vec', lambda x: x / np.linalg.norm(x))\n",
    "    .map(('id', 'vec'), (), ops.ann_insert.milvus_client(host=HOST, port=PORT, collection_name=COLLECTION_NAME))\n",
    "    .output()\n",
    ")\n",
    "\n",
    "ret = p3('reverse_image_search.csv')"
   ]
  },
  {
   "cell_type": "code",
   "execution_count": null,
   "metadata": {},
   "outputs": [],
   "source": [
    "collection.flush()\n",
    "collection.load()\n",
    "print('Total number of inserted data is {}.'.format(collection.num_entities))"
   ]
  },
  {
   "cell_type": "code",
   "execution_count": null,
   "metadata": {},
   "outputs": [],
   "source": [
    "def read_image(image_ids):\n",
    "    df = pd.read_csv('reverse_image_search.csv')\n",
    "    id_img = df.set_index('id')['path'].to_dict()\n",
    "    imgs = []\n",
    "    decode = ops.image_decode.cv2('rgb')\n",
    "    for image_id in image_ids:\n",
    "        path = id_img[image_id]\n",
    "        imgs.append(decode(path))\n",
    "    return imgs\n",
    "\n",
    "query = 'harry potter'\n",
    "ids = [25, ]\n",
    "p4 = (\n",
    "    pipe.input('text')\n",
    "    .map('text', 'vec', ops.image_text_embedding.clip(model_name='clip_vit_base_patch16', modality='text'))\n",
    "    .map('vec', 'vec', lambda x: x / np.linalg.norm(x))\n",
    "    .map('vec', 'result', ops.ann_search.milvus_client(host=HOST, port=PORT, collection_name=COLLECTION_NAME, limit=5))\n",
    "    .map('result', 'image_info', lambda x: [(item[0], item[1]) for item in x])\n",
    "    # Optionally sort by similarity score if needed\n",
    "    .map('image_info', 'sorted_image_info', lambda x: sorted(x, key=lambda item: item[1]))\n",
    "    # Extract sorted image IDs\n",
    "    .map('sorted_image_info', 'image_ids', lambda x: [item[0] for item in x])\n",
    "    .map('image_ids', 'images', read_image)\n",
    "    .output('text', 'images', 'sorted_image_info')\n",
    ")\n",
    "\n",
    "DataCollection(p4(query)).show()"
   ]
  },
  {
   "cell_type": "code",
   "execution_count": null,
   "metadata": {},
   "outputs": [],
   "source": []
  }
 ],
 "metadata": {
  "interpreter": {
   "hash": "aee8b7b246df8f9039afb4144a1f6fd8d2ca17a180786b69acc140d282b71a49"
  },
  "kernelspec": {
   "display_name": "Python 3 (ipykernel)",
   "language": "python",
   "name": "python3"
  },
  "language_info": {
   "codemirror_mode": {
    "name": "ipython",
    "version": 3
   },
   "file_extension": ".py",
   "mimetype": "text/x-python",
   "name": "python",
   "nbconvert_exporter": "python",
   "pygments_lexer": "ipython3",
   "version": "3.10.4"
  }
 },
 "nbformat": 4,
 "nbformat_minor": 4
}
