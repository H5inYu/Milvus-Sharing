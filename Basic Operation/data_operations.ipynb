{
 "cells": [
  {
   "cell_type": "code",
   "execution_count": null,
   "metadata": {},
   "outputs": [],
   "source": [
    "from pymilvus import connections, Collection\n",
    "\n",
    "HOST = \"milvus\"\n",
    "PORT = \"19530\"\n",
    "COLLECTION_NAME = 'myCollection'\n",
    "\n",
    "connections.connect(host=HOST, port=PORT)\n",
    "collection = Collection(COLLECTION_NAME)"
   ]
  },
  {
   "cell_type": "code",
   "execution_count": null,
   "metadata": {},
   "outputs": [],
   "source": [
    "data = [\n",
    "    {'id': 1, 'vector': [1, 0]},\n",
    "    {'id': 2, 'vector': [-1, 0]},\n",
    "    {'id': 3, 'vector': [0, 1]},\n",
    "    {'id': 4, 'vector': [0, -1]},\n",
    "]\n",
    "collection.insert(data)"
   ]
  },
  {
   "cell_type": "code",
   "execution_count": null,
   "metadata": {},
   "outputs": [],
   "source": [
    "expr = 'id in [2, 4]'\n",
    "collection.delete(expr)\n"
   ]
  },
  {
   "cell_type": "code",
   "execution_count": null,
   "metadata": {},
   "outputs": [],
   "source": [
    "collection.flush()\n",
    "collection.load()\n",
    "collection.num_entities"
   ]
  },
  {
   "cell_type": "code",
   "execution_count": null,
   "metadata": {},
   "outputs": [],
   "source": [
    "'''\n",
    "\n",
    "expr = 'id in [1,2,3,4]' -> that's ok\n",
    "-------------------------------------\n",
    "query on bool support expr:\n",
    "\n",
    "id in [true / false]\n",
    "id == true/ false\n",
    "id == True / False\n",
    "\n",
    "not support:\n",
    "\n",
    "id in [True / False]\n",
    "id == 0 / 1 / 2\n",
    "就很玄\n",
    "'''"
   ]
  }
 ],
 "metadata": {
  "interpreter": {
   "hash": "aee8b7b246df8f9039afb4144a1f6fd8d2ca17a180786b69acc140d282b71a49"
  },
  "kernelspec": {
   "display_name": "Python 3 (ipykernel)",
   "language": "python",
   "name": "python3"
  },
  "language_info": {
   "codemirror_mode": {
    "name": "ipython",
    "version": 3
   },
   "file_extension": ".py",
   "mimetype": "text/x-python",
   "name": "python",
   "nbconvert_exporter": "python",
   "pygments_lexer": "ipython3",
   "version": "3.11.6"
  }
 },
 "nbformat": 4,
 "nbformat_minor": 4
}
