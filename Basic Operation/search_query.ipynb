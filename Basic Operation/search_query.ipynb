{
 "cells": [
  {
   "cell_type": "code",
   "execution_count": 5,
   "metadata": {},
   "outputs": [],
   "source": [
    "from pymilvus import connections, Collection\n",
    "\n",
    "HOST = 'milvus'\n",
    "PORT = '19530'\n",
    "COLLECTION_NAME = 'myCollection'\n",
    "\n",
    "connections.connect(host=HOST, port=PORT)\n",
    "collection = Collection(COLLECTION_NAME) "
   ]
  },
  {
   "cell_type": "code",
   "execution_count": 7,
   "metadata": {},
   "outputs": [
    {
     "data": {
      "text/plain": [
       "[{'id': 4, 'vector': [0.0, -1.0]}]"
      ]
     },
     "execution_count": 7,
     "metadata": {},
     "output_type": "execute_result"
    }
   ],
   "source": [
    "collection.load()\n",
    "collection.query(\n",
    "    expr='id == 4',\n",
    "    output_fields=['id', 'vector']\n",
    ")\n"
   ]
  },
  {
   "cell_type": "code",
   "execution_count": 8,
   "metadata": {},
   "outputs": [
    {
     "data": {
      "text/plain": [
       "[\"['id: 3, distance: 0.7071067690849304, entity: {}', 'id: 1, distance: 0.7071067690849304, entity: {}', 'id: 2, distance: -0.7071067690849304, entity: {}']\"]"
      ]
     },
     "execution_count": 8,
     "metadata": {},
     "output_type": "execute_result"
    }
   ],
   "source": [
    "data=[[1, 1]]\n",
    "\n",
    "collection.load()\n",
    "collection.search(\n",
    "    data=data,\n",
    "    anns_field = 'vector',\n",
    "    limit=5, \n",
    "    param={\n",
    "        'metric_type': 'COSINE', \n",
    "        'params': {},\n",
    "    } \n",
    ")\n"
   ]
  },
  {
   "cell_type": "code",
   "execution_count": null,
   "metadata": {},
   "outputs": [],
   "source": []
  }
 ],
 "metadata": {
  "interpreter": {
   "hash": "aee8b7b246df8f9039afb4144a1f6fd8d2ca17a180786b69acc140d282b71a49"
  },
  "kernelspec": {
   "display_name": "Python 3 (ipykernel)",
   "language": "python",
   "name": "python3"
  },
  "language_info": {
   "codemirror_mode": {
    "name": "ipython",
    "version": 3
   },
   "file_extension": ".py",
   "mimetype": "text/x-python",
   "name": "python",
   "nbconvert_exporter": "python",
   "pygments_lexer": "ipython3",
   "version": "3.11.6"
  }
 },
 "nbformat": 4,
 "nbformat_minor": 4
}
