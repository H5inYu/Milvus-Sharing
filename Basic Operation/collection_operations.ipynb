{
 "cells": [
  {
   "cell_type": "code",
   "execution_count": null,
   "metadata": {},
   "outputs": [],
   "source": [
    "from pymilvus import connections, utility\n",
    "HOST = \"milvus\"\n",
    "PORT = \"19530\"\n",
    "connections.connect(host=HOST, port=PORT)"
   ]
  },
  {
   "cell_type": "code",
   "execution_count": null,
   "metadata": {},
   "outputs": [],
   "source": [
    "# List collections\n",
    "utility.list_collections()"
   ]
  },
  {
   "cell_type": "code",
   "execution_count": null,
   "metadata": {},
   "outputs": [],
   "source": [
    "COLLECTION_NAME = 'myCollection'\n",
    "utility.has_collection(COLLECTION_NAME)"
   ]
  },
  {
   "cell_type": "code",
   "execution_count": null,
   "metadata": {},
   "outputs": [],
   "source": [
    "from pymilvus import CollectionSchema, FieldSchema, DataType, Collection\n",
    "# 創建collection\n",
    "# 1. 準備schema\n",
    "# 2. 創建Collection\n",
    "\n",
    "id = FieldSchema(\n",
    "  name='id',\n",
    "  dtype=DataType.INT64,\n",
    "  is_primary=True,\n",
    ")\n",
    "vector = FieldSchema(\n",
    "    name='vector',\n",
    "    dtype=DataType.FLOAT_VECTOR,\n",
    "    dim=2,\n",
    ")\n",
    "schema = CollectionSchema(\n",
    "  fields=[id, vector],\n",
    "  description=\"Vector Search\",\n",
    "  enable_dynamic_field=True\n",
    ")\n",
    "\n",
    "collection = Collection(\n",
    "  name=COLLECTION_NAME,\n",
    "  schema=schema,\n",
    ")\n"
   ]
  },
  {
   "cell_type": "code",
   "execution_count": null,
   "metadata": {},
   "outputs": [],
   "source": [
    "\n",
    "utility.has_collection(COLLECTION_NAME)\n",
    "utility.list_collections()"
   ]
  },
  {
   "cell_type": "code",
   "execution_count": null,
   "metadata": {},
   "outputs": [],
   "source": [
    "# 3. 創建index\n",
    "INDEX_PARAMS = {\n",
    "    'metric_type': 'COSINE',\n",
    "    'index_type': 'IVF_FLAT',\n",
    "    'params': {'nlist': 4},\n",
    "}\n",
    "collection.create_index(\n",
    "    field_name='vector',\n",
    "    index_params=INDEX_PARAMS,\n",
    ")"
   ]
  },
  {
   "cell_type": "code",
   "execution_count": null,
   "metadata": {},
   "outputs": [],
   "source": [
    "utility.drop_collection(COLLECTION_NAME)\n",
    "utility.list_collections()"
   ]
  },
  {
   "cell_type": "code",
   "execution_count": null,
   "metadata": {},
   "outputs": [],
   "source": []
  }
 ],
 "metadata": {
  "interpreter": {
   "hash": "aee8b7b246df8f9039afb4144a1f6fd8d2ca17a180786b69acc140d282b71a49"
  },
  "kernelspec": {
   "display_name": "Python 3 (ipykernel)",
   "language": "python",
   "name": "python3"
  },
  "language_info": {
   "codemirror_mode": {
    "name": "ipython",
    "version": 3
   },
   "file_extension": ".py",
   "mimetype": "text/x-python",
   "name": "python",
   "nbconvert_exporter": "python",
   "pygments_lexer": "ipython3",
   "version": "3.11.6"
  }
 },
 "nbformat": 4,
 "nbformat_minor": 4
}
